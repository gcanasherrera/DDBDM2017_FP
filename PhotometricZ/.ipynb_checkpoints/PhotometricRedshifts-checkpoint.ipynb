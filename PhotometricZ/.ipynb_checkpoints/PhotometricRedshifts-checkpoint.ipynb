{
 "cells": [
  {
   "cell_type": "code",
   "execution_count": 2,
   "metadata": {
    "collapsed": false
   },
   "outputs": [
    {
     "name": "stdout",
     "output_type": "stream",
     "text": [
      "Using matplotlib backend: agg\n",
      "Populating the interactive namespace from numpy and matplotlib\n"
     ]
    }
   ],
   "source": [
    "%pylab"
   ]
  },
  {
   "cell_type": "code",
   "execution_count": 3,
   "metadata": {
    "collapsed": true
   },
   "outputs": [],
   "source": [
    "from astropy.table import Table"
   ]
  },
  {
   "cell_type": "code",
   "execution_count": 3,
   "metadata": {
    "collapsed": false
   },
   "outputs": [
    {
     "name": "stderr",
     "output_type": "stream",
     "text": [
      "WARNING: W03: None:9:0: W03: Implicitly generating an ID from a name '/Users/jarle/Documents/Leiden/Teaching/Databases & Datamining/2017/PhotometricRedshifts/photoz_catalogues/Teddy/teddy_A' -> '__Users_jarle_Documents_Leiden_Teaching_Databases___Datamining_2017_PhotometricRedshifts_photoz_catalogues_Teddy_teddy_A' [astropy.io.votable.xmlutil]\n",
      "WARNING: W03: None:9:0: W03: Implicitly generating an ID from a name '/Users/jarle/Documents/Leiden/Teaching/Databases & Datamining/2017/PhotometricRedshifts/photoz_catalogues/Teddy/teddy_B' -> '__Users_jarle_Documents_Leiden_Teaching_Databases___Datamining_2017_PhotometricRedshifts_photoz_catalogues_Teddy_teddy_B' [astropy.io.votable.xmlutil]\n"
     ]
    }
   ],
   "source": [
    "TableA=Table.read('Q2/Tables/PhotoZFileA.vot')\n",
    "TableB=Table.read('Q2/Tables/PhotoZFileB.vot')"
   ]
  },
  {
   "cell_type": "code",
   "execution_count": 62,
   "metadata": {
    "collapsed": false
   },
   "outputs": [],
   "source": [
    "from sklearn.linear_model import Ridge, Lasso, LinearRegression"
   ]
  },
  {
   "cell_type": "code",
   "execution_count": 5,
   "metadata": {
    "collapsed": false
   },
   "outputs": [],
   "source": [
    "X = np.vstack((TableA['u-g'].data, TableA['g-r'].data, TableA['r-i'].data, TableA['i-z'].data, TableA['z_spec'].data)).T\n",
    "M = np.vstack((TableA['u-g'].data, TableA['g-r'].data, TableA['r-i'].data, TableA['i-z'].data)).T"
   ]
  },
  {
   "cell_type": "code",
   "execution_count": 17,
   "metadata": {
    "collapsed": false
   },
   "outputs": [],
   "source": [
    "Z=TableA['z_spec'].data.data"
   ]
  },
  {
   "cell_type": "code",
   "execution_count": 78,
   "metadata": {
    "collapsed": false
   },
   "outputs": [],
   "source": [
    "# model = LinearRegression(fit_intercept=True)\n",
    "model = Ridge(fit_intercept=True)\n",
    "res = model.fit(X, Z)\n",
    "zpred = model.predict(X)"
   ]
  },
  {
   "cell_type": "code",
   "execution_count": 79,
   "metadata": {
    "collapsed": false
   },
   "outputs": [
    {
     "name": "stdout",
     "output_type": "stream",
     "text": [
      " The best-fit model is:\n",
      "   zphot = -0.000+ 0.001 (u-g) + 0.005 (g-r) + 0.000 (r-i) + 0.993 (i-z)\n"
     ]
    }
   ],
   "source": [
    "residuals = zpred-Z\n",
    "relative_residuals = residuals/Z\n",
    "c = list(res.coef_)\n",
    "print(\" The best-fit model is:\\n   zphot = {0:.3f}+ {1:.3f} (u-g) + {2:.3f} (g-r) + {3:.3f} (r-i) + {4:.3f} (i-z)\".format(c[0], c[1], c[2], c[3], c[4]))"
   ]
  },
  {
   "cell_type": "code",
   "execution_count": 80,
   "metadata": {
    "collapsed": false
   },
   "outputs": [
    {
     "data": {
      "text/plain": [
       "(74309,)"
      ]
     },
     "execution_count": 80,
     "metadata": {},
     "output_type": "execute_result"
    }
   ],
   "source": [
    "Z.shape"
   ]
  },
  {
   "cell_type": "code",
   "execution_count": 81,
   "metadata": {
    "collapsed": false
   },
   "outputs": [],
   "source": [
    "Etheta=np.median(np.abs((Z-zpred)/(1 + Z)))"
   ]
  },
  {
   "cell_type": "code",
   "execution_count": 82,
   "metadata": {
    "collapsed": false
   },
   "outputs": [
    {
     "data": {
      "text/plain": [
       "<matplotlib.text.Text at 0x7fec77c7a470>"
      ]
     },
     "execution_count": 82,
     "metadata": {},
     "output_type": "execute_result"
    }
   ],
   "source": [
    "fig, axes = plt.subplots(ncols=2, nrows=1, figsize=(16, 8))\n",
    "axes[0].scatter(Z, residuals, marker='.')\n",
    "axes[0].set_xlabel('redshift')\n",
    "axes[0].set_ylabel(r'$z_{pred}-z$')\n",
    "\n",
    "axes[1].scatter(Z, relative_residuals, marker='.')\n",
    "axes[1].set_xlabel('redshift')\n",
    "axes[1].set_ylabel(r'relative $z_{pred}-z$')"
   ]
  },
  {
   "cell_type": "code",
   "execution_count": 83,
   "metadata": {
    "collapsed": false
   },
   "outputs": [
    {
     "data": {
      "text/plain": [
       "0.00011241965474272596"
      ]
     },
     "execution_count": 83,
     "metadata": {},
     "output_type": "execute_result"
    }
   ],
   "source": [
    "Etheta"
   ]
  },
  {
   "cell_type": "code",
   "execution_count": null,
   "metadata": {
    "collapsed": true
   },
   "outputs": [],
   "source": []
  }
 ],
 "metadata": {
  "kernelspec": {
   "display_name": "Python 2",
   "language": "python",
   "name": "python2"
  },
  "language_info": {
   "codemirror_mode": {
    "name": "ipython",
    "version": 2
   },
   "file_extension": ".py",
   "mimetype": "text/x-python",
   "name": "python",
   "nbconvert_exporter": "python",
   "pygments_lexer": "ipython2",
   "version": "2.7.12"
  }
 },
 "nbformat": 4,
 "nbformat_minor": 2
}
