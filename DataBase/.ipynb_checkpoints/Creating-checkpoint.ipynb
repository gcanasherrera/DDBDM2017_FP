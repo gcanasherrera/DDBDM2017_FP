{
 "cells": [
  {
   "cell_type": "code",
   "execution_count": 2,
   "metadata": {
    "collapsed": false
   },
   "outputs": [
    {
     "name": "stdout",
     "output_type": "stream",
     "text": [
      "Using matplotlib backend: agg\n",
      "Populating the interactive namespace from numpy and matplotlib\n"
     ]
    }
   ],
   "source": [
    "%pylab"
   ]
  },
  {
   "cell_type": "code",
   "execution_count": 3,
   "metadata": {
    "collapsed": true
   },
   "outputs": [],
   "source": [
    "import sqlite3 as sq\n",
    "from astropy.table import vstack, Table\n",
    "import pandas as pd\n",
    "import os\n",
    "import glob"
   ]
  },
  {
   "cell_type": "code",
   "execution_count": 3,
   "metadata": {
    "collapsed": true
   },
   "outputs": [],
   "source": [
    "def is_number(s):\n",
    "    # I need a function like this below to decide whether\n",
    "    # to insert apostrophes around the arguments in SQL.\n",
    "    try:\n",
    "        float(s)\n",
    "        return True\n",
    "    except ValueError:\n",
    "        return False"
   ]
  },
  {
   "cell_type": "code",
   "execution_count": 4,
   "metadata": {
    "collapsed": true
   },
   "outputs": [],
   "source": [
    "Info=Table.read('/Users/guadalupecanasherrera/DDM2017_FinalProject/FinalProject/Q1/Tables/file_info_for_problem.csv',format='ascii.csv')"
   ]
  },
  {
   "cell_type": "code",
   "execution_count": 5,
   "metadata": {
    "collapsed": false
   },
   "outputs": [
    {
     "data": {
      "text/html": [
       "&lt;Table length=18&gt;\n",
       "<table id=\"table4476971280\" class=\"table-striped table-bordered table-condensed\">\n",
       "<thead><tr><th>ID</th><th>FieldID</th><th>Filename</th><th>Filter</th><th>MJD</th><th>Airmass</th><th>Exptime</th></tr></thead>\n",
       "<thead><tr><th>int64</th><th>int64</th><th>str36</th><th>str2</th><th>float64</th><th>float64</th><th>float64</th></tr></thead>\n",
       "<tr><td>1</td><td>1</td><td>Z-ADP.2017-01-18T11:58:36.905.fits</td><td>Z</td><td>57267.1671072</td><td>1.6405</td><td>40.0</td></tr>\n",
       "<tr><td>2</td><td>1</td><td>J-ADP.2017-01-18T11:58:35.781.fits</td><td>J</td><td>57257.0504323</td><td>1.0105</td><td>48.0</td></tr>\n",
       "<tr><td>3</td><td>1</td><td>H-ADP.2017-01-18T11:58:35.780.fits</td><td>H</td><td>57257.044108</td><td>1.006</td><td>16.0</td></tr>\n",
       "<tr><td>4</td><td>1</td><td>Ks-ADP.2016-05-25T15:33:39.546.fits</td><td>Ks</td><td>56788.346937</td><td>1.023</td><td>16.0</td></tr>\n",
       "<tr><td>5</td><td>1</td><td>Ks-ADP.2017-01-18T11:58:39.907.fits</td><td>Ks</td><td>56561.0020158</td><td>1.079</td><td>16.0</td></tr>\n",
       "<tr><td>6</td><td>1</td><td>Ks-ADP.2016-05-25T15:33:43.377.fits</td><td>Ks</td><td>56829.0390512</td><td>1.6085</td><td>16.0</td></tr>\n",
       "<tr><td>7</td><td>1</td><td>Y-ADP.2017-01-18T11:58:36.901.fits</td><td>Y</td><td>57267.1596647</td><td>1.5605</td><td>40.0</td></tr>\n",
       "<tr><td>8</td><td>2</td><td>Z-ADP.2017-01-18T11:58:36.905b.fits</td><td>Z</td><td>57268.1671072</td><td>1.6405</td><td>40.0</td></tr>\n",
       "<tr><td>9</td><td>2</td><td>J-ADP.2017-01-18T11:58:35.781b.fits</td><td>J</td><td>57258.0504323</td><td>1.0105</td><td>48.0</td></tr>\n",
       "<tr><td>10</td><td>2</td><td>H-ADP.2017-01-18T11:58:35.780b.fits</td><td>H</td><td>57258.044108</td><td>1.006</td><td>16.0</td></tr>\n",
       "<tr><td>11</td><td>2</td><td>Ks-ADP.2016-05-25T15:33:39.546b.fits</td><td>Ks</td><td>56789.346937</td><td>1.023</td><td>16.0</td></tr>\n",
       "<tr><td>12</td><td>2</td><td>Y-ADP.2017-01-18T11:58:36.901b.fits</td><td>Y</td><td>57268.1596647</td><td>1.5605</td><td>40.0</td></tr>\n",
       "<tr><td>13</td><td>3</td><td>Z-ADP.2017-01-18T11:58:36.905c.fits</td><td>Z</td><td>57268.1671072</td><td>1.6405</td><td>40.0</td></tr>\n",
       "<tr><td>14</td><td>3</td><td>J-ADP.2017-01-18T11:58:35.781c.fits</td><td>J</td><td>57258.0504323</td><td>1.0105</td><td>48.0</td></tr>\n",
       "<tr><td>15</td><td>3</td><td>H-ADP.2017-01-18T11:58:35.780c.fits</td><td>H</td><td>57258.044108</td><td>1.006</td><td>16.0</td></tr>\n",
       "<tr><td>16</td><td>3</td><td>Ks-ADP.2016-05-25T15:33:39.546c.fits</td><td>Ks</td><td>56789.346937</td><td>1.023</td><td>16.0</td></tr>\n",
       "<tr><td>17</td><td>3</td><td>Ks-ADP.2017-01-18T11:58:39.907c.fits</td><td>Ks</td><td>56562.0020158</td><td>1.079</td><td>16.0</td></tr>\n",
       "<tr><td>18</td><td>3</td><td>Y-ADP.2017-01-18T11:58:36.901c.fits</td><td>Y</td><td>57268.1596647</td><td>1.5605</td><td>40.0</td></tr>\n",
       "</table>"
      ],
      "text/plain": [
       "<Table length=18>\n",
       "  ID  FieldID               Filename               ... Airmass Exptime\n",
       "int64  int64                 str36                 ... float64 float64\n",
       "----- ------- ------------------------------------ ... ------- -------\n",
       "    1       1   Z-ADP.2017-01-18T11:58:36.905.fits ...  1.6405    40.0\n",
       "    2       1   J-ADP.2017-01-18T11:58:35.781.fits ...  1.0105    48.0\n",
       "    3       1   H-ADP.2017-01-18T11:58:35.780.fits ...   1.006    16.0\n",
       "    4       1  Ks-ADP.2016-05-25T15:33:39.546.fits ...   1.023    16.0\n",
       "    5       1  Ks-ADP.2017-01-18T11:58:39.907.fits ...   1.079    16.0\n",
       "    6       1  Ks-ADP.2016-05-25T15:33:43.377.fits ...  1.6085    16.0\n",
       "    7       1   Y-ADP.2017-01-18T11:58:36.901.fits ...  1.5605    40.0\n",
       "    8       2  Z-ADP.2017-01-18T11:58:36.905b.fits ...  1.6405    40.0\n",
       "    9       2  J-ADP.2017-01-18T11:58:35.781b.fits ...  1.0105    48.0\n",
       "   10       2  H-ADP.2017-01-18T11:58:35.780b.fits ...   1.006    16.0\n",
       "   11       2 Ks-ADP.2016-05-25T15:33:39.546b.fits ...   1.023    16.0\n",
       "   12       2  Y-ADP.2017-01-18T11:58:36.901b.fits ...  1.5605    40.0\n",
       "   13       3  Z-ADP.2017-01-18T11:58:36.905c.fits ...  1.6405    40.0\n",
       "   14       3  J-ADP.2017-01-18T11:58:35.781c.fits ...  1.0105    48.0\n",
       "   15       3  H-ADP.2017-01-18T11:58:35.780c.fits ...   1.006    16.0\n",
       "   16       3 Ks-ADP.2016-05-25T15:33:39.546c.fits ...   1.023    16.0\n",
       "   17       3 Ks-ADP.2017-01-18T11:58:39.907c.fits ...   1.079    16.0\n",
       "   18       3  Y-ADP.2017-01-18T11:58:36.901c.fits ...  1.5605    40.0"
      ]
     },
     "execution_count": 5,
     "metadata": {},
     "output_type": "execute_result"
    }
   ],
   "source": [
    "Info"
   ]
  },
  {
   "cell_type": "code",
   "execution_count": 8,
   "metadata": {
    "collapsed": false
   },
   "outputs": [],
   "source": [
    "# filenames= [y for x in os.walk('/disks/strw1/ramospadilla/3Sem/DBDM/FinalProject/Q1/Tables') for y in glob(os.path.join(x[0], '*.fits'))]\n",
    "items = os.listdir(\"/Users/guadalupecanasherrera/DDM2017_FinalProject/FinalProject/Q1/Tables\")\n",
    "newlist = []\n",
    "for names in items:\n",
    "    if names.endswith(\".fits\"):\n",
    "        newlist.append(names)"
   ]
  },
  {
   "cell_type": "code",
   "execution_count": 10,
   "metadata": {
    "collapsed": false
   },
   "outputs": [
    {
     "data": {
      "text/plain": [
       "['Field-1-H.fits',\n",
       " 'Field-1-J.fits',\n",
       " 'Field-1-Ks-E001.fits',\n",
       " 'Field-1-Ks-E002.fits',\n",
       " 'Field-1-Ks-E003.fits',\n",
       " 'Field-1-Y.fits',\n",
       " 'Field-1-Z.fits',\n",
       " 'Field-2-H.fits',\n",
       " 'Field-2-J.fits',\n",
       " 'Field-2-Ks-E001.fits',\n",
       " 'Field-2-Y.fits',\n",
       " 'Field-2-Z.fits',\n",
       " 'Field-3-H.fits',\n",
       " 'Field-3-J.fits',\n",
       " 'Field-3-Ks-E001.fits',\n",
       " 'Field-3-Ks-E002.fits',\n",
       " 'Field-3-Y.fits',\n",
       " 'Field-3-Z.fits']"
      ]
     },
     "execution_count": 10,
     "metadata": {},
     "output_type": "execute_result"
    }
   ],
   "source": [
    "newlist"
   ]
  },
  {
   "cell_type": "code",
   "execution_count": 18,
   "metadata": {
    "collapsed": true
   },
   "outputs": [],
   "source": [
    "#ListaNombre=['Field-1-Z.fits','Field-1-J.fits','Field-1-H.fits','Field-1-Ks-E002.fits','Field-1-Ks-E001.fits',\n",
    "#            'Field-1-Ks-E003.fits','Field-1-Y.fits','Field-2-Z.fits','Field-2-J.fits','Field-2-H.fits',\n",
    "#           'Field-2-Ks-E001.fits','Field-2-Y.fits','Field-3-Z.fits','Field-3-J.fits','Field-3-H.fits',\n",
    "#             'Field-3-Ks-E002.fits','Field-3-Ks-E001.fits','Field-3-Y.fits']\n",
    "            \n",
    "ListaNombre=['Field-1-Z','Field-1-J','Field-1-H','Field-1-Ks-E002','Field-1-Ks-E001',\n",
    "            'Field-1-Ks-E003','Field-1-Y','Field-2-Z','Field-2-J','Field-2-H',\n",
    "            'Field-2-Ks-E001','Field-2-Y','Field-3-Z','Field-3-J','Field-3-H',\n",
    "             'Field-3-Ks-E002','Field-3-Ks-E001','Field-3-Y']\n",
    "\n"
   ]
  },
  {
   "cell_type": "code",
   "execution_count": 19,
   "metadata": {
    "collapsed": false
   },
   "outputs": [],
   "source": [
    "Info['RealFilename']=ListaNombre"
   ]
  },
  {
   "cell_type": "code",
   "execution_count": 20,
   "metadata": {
    "collapsed": false
   },
   "outputs": [
    {
     "data": {
      "text/html": [
       "&lt;Table length=18&gt;\n",
       "<table id=\"table4476971280\" class=\"table-striped table-bordered table-condensed\">\n",
       "<thead><tr><th>ID</th><th>FieldID</th><th>Filename</th><th>Filter</th><th>MJD</th><th>Airmass</th><th>Exptime</th><th>RealFilename</th></tr></thead>\n",
       "<thead><tr><th>int64</th><th>int64</th><th>str36</th><th>str2</th><th>float64</th><th>float64</th><th>float64</th><th>str15</th></tr></thead>\n",
       "<tr><td>1</td><td>1</td><td>Z-ADP.2017-01-18T11:58:36.905.fits</td><td>Z</td><td>57267.1671072</td><td>1.6405</td><td>40.0</td><td>Field-1-Z</td></tr>\n",
       "<tr><td>2</td><td>1</td><td>J-ADP.2017-01-18T11:58:35.781.fits</td><td>J</td><td>57257.0504323</td><td>1.0105</td><td>48.0</td><td>Field-1-J</td></tr>\n",
       "<tr><td>3</td><td>1</td><td>H-ADP.2017-01-18T11:58:35.780.fits</td><td>H</td><td>57257.044108</td><td>1.006</td><td>16.0</td><td>Field-1-H</td></tr>\n",
       "<tr><td>4</td><td>1</td><td>Ks-ADP.2016-05-25T15:33:39.546.fits</td><td>Ks</td><td>56788.346937</td><td>1.023</td><td>16.0</td><td>Field-1-Ks-E002</td></tr>\n",
       "<tr><td>5</td><td>1</td><td>Ks-ADP.2017-01-18T11:58:39.907.fits</td><td>Ks</td><td>56561.0020158</td><td>1.079</td><td>16.0</td><td>Field-1-Ks-E001</td></tr>\n",
       "<tr><td>6</td><td>1</td><td>Ks-ADP.2016-05-25T15:33:43.377.fits</td><td>Ks</td><td>56829.0390512</td><td>1.6085</td><td>16.0</td><td>Field-1-Ks-E003</td></tr>\n",
       "<tr><td>7</td><td>1</td><td>Y-ADP.2017-01-18T11:58:36.901.fits</td><td>Y</td><td>57267.1596647</td><td>1.5605</td><td>40.0</td><td>Field-1-Y</td></tr>\n",
       "<tr><td>8</td><td>2</td><td>Z-ADP.2017-01-18T11:58:36.905b.fits</td><td>Z</td><td>57268.1671072</td><td>1.6405</td><td>40.0</td><td>Field-2-Z</td></tr>\n",
       "<tr><td>9</td><td>2</td><td>J-ADP.2017-01-18T11:58:35.781b.fits</td><td>J</td><td>57258.0504323</td><td>1.0105</td><td>48.0</td><td>Field-2-J</td></tr>\n",
       "<tr><td>10</td><td>2</td><td>H-ADP.2017-01-18T11:58:35.780b.fits</td><td>H</td><td>57258.044108</td><td>1.006</td><td>16.0</td><td>Field-2-H</td></tr>\n",
       "<tr><td>11</td><td>2</td><td>Ks-ADP.2016-05-25T15:33:39.546b.fits</td><td>Ks</td><td>56789.346937</td><td>1.023</td><td>16.0</td><td>Field-2-Ks-E001</td></tr>\n",
       "<tr><td>12</td><td>2</td><td>Y-ADP.2017-01-18T11:58:36.901b.fits</td><td>Y</td><td>57268.1596647</td><td>1.5605</td><td>40.0</td><td>Field-2-Y</td></tr>\n",
       "<tr><td>13</td><td>3</td><td>Z-ADP.2017-01-18T11:58:36.905c.fits</td><td>Z</td><td>57268.1671072</td><td>1.6405</td><td>40.0</td><td>Field-3-Z</td></tr>\n",
       "<tr><td>14</td><td>3</td><td>J-ADP.2017-01-18T11:58:35.781c.fits</td><td>J</td><td>57258.0504323</td><td>1.0105</td><td>48.0</td><td>Field-3-J</td></tr>\n",
       "<tr><td>15</td><td>3</td><td>H-ADP.2017-01-18T11:58:35.780c.fits</td><td>H</td><td>57258.044108</td><td>1.006</td><td>16.0</td><td>Field-3-H</td></tr>\n",
       "<tr><td>16</td><td>3</td><td>Ks-ADP.2016-05-25T15:33:39.546c.fits</td><td>Ks</td><td>56789.346937</td><td>1.023</td><td>16.0</td><td>Field-3-Ks-E002</td></tr>\n",
       "<tr><td>17</td><td>3</td><td>Ks-ADP.2017-01-18T11:58:39.907c.fits</td><td>Ks</td><td>56562.0020158</td><td>1.079</td><td>16.0</td><td>Field-3-Ks-E001</td></tr>\n",
       "<tr><td>18</td><td>3</td><td>Y-ADP.2017-01-18T11:58:36.901c.fits</td><td>Y</td><td>57268.1596647</td><td>1.5605</td><td>40.0</td><td>Field-3-Y</td></tr>\n",
       "</table>"
      ],
      "text/plain": [
       "<Table length=18>\n",
       "  ID  FieldID               Filename               ... Exptime   RealFilename \n",
       "int64  int64                 str36                 ... float64      str15     \n",
       "----- ------- ------------------------------------ ... ------- ---------------\n",
       "    1       1   Z-ADP.2017-01-18T11:58:36.905.fits ...    40.0       Field-1-Z\n",
       "    2       1   J-ADP.2017-01-18T11:58:35.781.fits ...    48.0       Field-1-J\n",
       "    3       1   H-ADP.2017-01-18T11:58:35.780.fits ...    16.0       Field-1-H\n",
       "    4       1  Ks-ADP.2016-05-25T15:33:39.546.fits ...    16.0 Field-1-Ks-E002\n",
       "    5       1  Ks-ADP.2017-01-18T11:58:39.907.fits ...    16.0 Field-1-Ks-E001\n",
       "    6       1  Ks-ADP.2016-05-25T15:33:43.377.fits ...    16.0 Field-1-Ks-E003\n",
       "    7       1   Y-ADP.2017-01-18T11:58:36.901.fits ...    40.0       Field-1-Y\n",
       "    8       2  Z-ADP.2017-01-18T11:58:36.905b.fits ...    40.0       Field-2-Z\n",
       "    9       2  J-ADP.2017-01-18T11:58:35.781b.fits ...    48.0       Field-2-J\n",
       "   10       2  H-ADP.2017-01-18T11:58:35.780b.fits ...    16.0       Field-2-H\n",
       "   11       2 Ks-ADP.2016-05-25T15:33:39.546b.fits ...    16.0 Field-2-Ks-E001\n",
       "   12       2  Y-ADP.2017-01-18T11:58:36.901b.fits ...    40.0       Field-2-Y\n",
       "   13       3  Z-ADP.2017-01-18T11:58:36.905c.fits ...    40.0       Field-3-Z\n",
       "   14       3  J-ADP.2017-01-18T11:58:35.781c.fits ...    48.0       Field-3-J\n",
       "   15       3  H-ADP.2017-01-18T11:58:35.780c.fits ...    16.0       Field-3-H\n",
       "   16       3 Ks-ADP.2016-05-25T15:33:39.546c.fits ...    16.0 Field-3-Ks-E002\n",
       "   17       3 Ks-ADP.2017-01-18T11:58:39.907c.fits ...    16.0 Field-3-Ks-E001\n",
       "   18       3  Y-ADP.2017-01-18T11:58:36.901c.fits ...    40.0       Field-3-Y"
      ]
     },
     "execution_count": 20,
     "metadata": {},
     "output_type": "execute_result"
    }
   ],
   "source": [
    "Info"
   ]
  },
  {
   "cell_type": "code",
   "execution_count": 17,
   "metadata": {
    "collapsed": false
   },
   "outputs": [],
   "source": [
    "Inte=Table()\n",
    "for ii,files in enumerate(newlist):\n",
    "#     print(files[:-5])\n",
    "    Files=Table.read('/Users/guadalupecanasherrera/DDM2017_FinalProject/FinalProject/Q1/Tables/'+str(files),format='fits')\n",
    "    for jj, kola in enumerate(Info):\n",
    "        if kola['RealFilename']==files:\n",
    "            Files['ID']=np.ones(len(Files))*kola['ID']\n",
    "    Inte=vstack([Inte,Files])"
   ]
  },
  {
   "cell_type": "code",
   "execution_count": 26,
   "metadata": {
    "collapsed": true
   },
   "outputs": [],
   "source": [
    "Df_Pandas=Inte.to_pandas()\n",
    "con = sq.connect('SimpleTables-pandas2.db')\n",
    "# And create the tables.\n",
    "Df_Pandas.to_sql('AllO', con, if_exists='replace')"
   ]
  },
  {
   "cell_type": "code",
   "execution_count": 23,
   "metadata": {
    "collapsed": false
   },
   "outputs": [],
   "source": [
    "for ii,files in enumerate(newlist):\n",
    "#     print(files[:-5])\n",
    "    Files=Table.read('/Users/guadalupecanasherrera/DDM2017_FinalProject/FinalProject/Q1/Tables/'+str(files),format='fits')\n",
    "    for jj, kola in enumerate(Info):\n",
    "        if kola['RealFilename']==files:\n",
    "            Files['ID']=np.ones(len(Files))*kola['ID']\n",
    "#     print(files,Files)\n",
    "    Df_Pandas=Files.to_pandas()\n",
    "    con = sq.connect('SimpleTables-pandas.db')\n",
    "    # And create the tables.\n",
    "    Df_Pandas.to_sql(files[:-5], con, if_exists='replace')\n",
    "#     Files.write('Q1/Tables/'+str(files[:-5])+'.csv',format='ascii.csv')"
   ]
  },
  {
   "cell_type": "code",
   "execution_count": 24,
   "metadata": {
    "collapsed": true
   },
   "outputs": [],
   "source": [
    "Df_Pandas=Info.to_pandas()\n",
    "con = sq.connect('SimpleTables-pandas.db')\n",
    "Df_Pandas.to_sql('README', con, if_exists='replace')"
   ]
  },
  {
   "cell_type": "code",
   "execution_count": 10,
   "metadata": {
    "collapsed": false
   },
   "outputs": [],
   "source": [
    "Fil1=Table.read('/disks/strw1/ramospadilla/3Sem/DBDM/FinalProject/Q1/Tables/Field-1-H.fits',format='fits')\n",
    "Fil2=Table.read('/disks/strw1/ramospadilla/3Sem/DBDM/FinalProject/Q1/Tables/Field-1-Ks-E001.fits',format='fits')"
   ]
  },
  {
   "cell_type": "code",
   "execution_count": null,
   "metadata": {
    "collapsed": false
   },
   "outputs": [],
   "source": [
    "Flux=std([Fil1['Flux1'],Fil1['Flux2'],Fil1['Flux3']],axis=0)**2"
   ]
  },
  {
   "cell_type": "code",
   "execution_count": null,
   "metadata": {
    "collapsed": true
   },
   "outputs": [],
   "source": [
    "SRD=std([Fil1['dFlux1'],Fil1['dFlux2'],Fil1['dFlux3']],axis=0)**2"
   ]
  },
  {
   "cell_type": "code",
   "execution_count": null,
   "metadata": {
    "collapsed": false
   },
   "outputs": [],
   "source": [
    "SNR=Flux/SRD\n",
    "sum(SNR<5)"
   ]
  },
  {
   "cell_type": "code",
   "execution_count": null,
   "metadata": {
    "collapsed": false
   },
   "outputs": [],
   "source": [
    "print(Fil1.colnames,Fil1.dtype)"
   ]
  },
  {
   "cell_type": "code",
   "execution_count": null,
   "metadata": {
    "collapsed": true
   },
   "outputs": [],
   "source": [
    "InfoSchema = \"\"\"CREATE TABLE IF NOT EXISTS MagTable (ID Integer,\n",
    "       FieldID Integer,\n",
    "       Filename varchar(36),\n",
    "       Filter varchar(2),\n",
    "       MJD Float,\n",
    "       Airmass Float,\n",
    "       Exptime Float,\n",
    "       UNIQUE(ID));\n",
    "\"\"\""
   ]
  },
  {
   "cell_type": "code",
   "execution_count": null,
   "metadata": {
    "collapsed": true
   },
   "outputs": [],
   "source": [
    "FluxSchema = \"\"\"CREATE TABLE IF NOT EXISTS MagTable (RunningID Float,\n",
    "X Float, Y Float, Flux1 Float, dFlux1 Float, Flux2 Float, dFlux2 Float, Flux3 Float, dFlux3 Float,\n",
    "Ra Float, Dec Float, Class Float, Mag1 Float, dMag1 Float, Mag2 Float, dMag2 Float, Mag3 Float, dMag3 Float,\n",
    "StarID Integer,\n",
    "UNIQUE(StarID));\n",
    "\"\"\""
   ]
  },
  {
   "cell_type": "code",
   "execution_count": null,
   "metadata": {
    "collapsed": true
   },
   "outputs": [],
   "source": [
    "newlist2 = []\n",
    "for names in items:\n",
    "    if names.endswith(\".csv\"):\n",
    "        newlist2.append(names)"
   ]
  },
  {
   "cell_type": "code",
   "execution_count": null,
   "metadata": {
    "collapsed": false
   },
   "outputs": [],
   "source": [
    "newlist2.remove('file_info_for_problem.csv')"
   ]
  },
  {
   "cell_type": "code",
   "execution_count": null,
   "metadata": {
    "collapsed": true
   },
   "outputs": [],
   "source": [
    "tables={}#dict()\n",
    "\n",
    "for jj, file in enumerate(newlist2):\n",
    "    tables[file]=[file,FluxSchema]"
   ]
  },
  {
   "cell_type": "code",
   "execution_count": null,
   "metadata": {
    "collapsed": false
   },
   "outputs": [],
   "source": [
    "# tables = {'InfoTable': ['/disks/strw1/ramospadilla/3Sem/DBDM/FinalProject/Q1/Tables/file_info_for_problem.csv', InfoSchema],\n",
    "#             'FluxTable': ['Q1/Tables/Field-1-H.csv', FluxSchema]}"
   ]
  },
  {
   "cell_type": "code",
   "execution_count": null,
   "metadata": {
    "collapsed": false
   },
   "outputs": [],
   "source": [
    "tables"
   ]
  },
  {
   "cell_type": "code",
   "execution_count": null,
   "metadata": {
    "collapsed": false
   },
   "outputs": [],
   "source": [
    "# con = sq.connect('SimpleTables-default.db')\n",
    "# with con:\n",
    "#     for name in tables.keys():\n",
    "#         file_name, schema = tables[name]\n",
    "#         print(\"I will read from {0}\".format(file_name))\n",
    "#         t = Table().read('Q1/Tables/'+str(file_name), format='csv')\n",
    "        \n",
    "#         con.execute(schema)\n",
    "#         for row in t:\n",
    "#             command = \"INSERT INTO {0} VALUES(\".format(name)\n",
    "#             n_columns = len(row)\n",
    "#             for i, col in enumerate(row):\n",
    "#                 # Now the trick here is how to handle strings. Numbers do\n",
    "#                 # not need to be enclosed in apostrophes so I'll just do\n",
    "#                 # the simple check\n",
    "#                 if is_number(col):\n",
    "#                     arg = str(col)\n",
    "#                 else:\n",
    "#                     arg = \"'\"+str(col)+\"'\"\n",
    "                    \n",
    "#                 command = command+arg\n",
    "#                 if i < n_columns-1:\n",
    "#                     command = command+','\n",
    "\n",
    "#             command = command+')'\n",
    "            \n",
    "#             try:\n",
    "#                 print(\"Command = {0}\".format(command))\n",
    "#                 con.execute(command)\n",
    "#             except:\n",
    "#                 pass"
   ]
  },
  {
   "cell_type": "code",
   "execution_count": null,
   "metadata": {
    "collapsed": true
   },
   "outputs": [],
   "source": []
  }
 ],
 "metadata": {
  "kernelspec": {
   "display_name": "Python 2",
   "language": "python",
   "name": "python2"
  },
  "language_info": {
   "codemirror_mode": {
    "name": "ipython",
    "version": 2
   },
   "file_extension": ".py",
   "mimetype": "text/x-python",
   "name": "python",
   "nbconvert_exporter": "python",
   "pygments_lexer": "ipython2",
   "version": "2.7.12"
  }
 },
 "nbformat": 4,
 "nbformat_minor": 2
}
