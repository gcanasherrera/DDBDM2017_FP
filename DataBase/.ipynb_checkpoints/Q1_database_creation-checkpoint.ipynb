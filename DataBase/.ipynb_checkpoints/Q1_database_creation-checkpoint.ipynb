{
 "cells": [
  {
   "cell_type": "markdown",
   "metadata": {},
   "source": [
    "# 1. A database for a time-domain survey (Part I): creation of a database"
   ]
  },
  {
   "cell_type": "code",
   "execution_count": 15,
   "metadata": {
    "collapsed": false
   },
   "outputs": [],
   "source": [
    "##     Include all required python-related packages     ##\n",
    "import sqlite3 as sq #handle sql databases\n",
    "from astropy.table import vstack, Table #read tables\n",
    "import pandas as pd #dataframes\n",
    "import os #system \n",
    "import numpy as np #deal with arrays\n",
    "#import matplotlib.pyplot as plt #plotting\n",
    "#to show plots in line\n",
    "%matplotlib inline "
   ]
  },
  {
   "cell_type": "markdown",
   "metadata": {},
   "source": [
    "###Reading and handeling initial tables\n",
    "I use Astropy to handle given tables with format .csv and .fits. The directory needs to be changed in case this ipython is re-run in another location.\n",
    "\n",
    "There are two types of tables: an information/summary table (Info), and tables containing data (ended in .fits). In total we have 19 tables (1 Info and 18 data tables).\n",
    "\n",
    "The **aim** is to create only 3 tables: an updated Info table, one big table containing information of the rest of 18 tables, and a color data. This will be the started point of the data base to create. For further information about the reasons why only 3 tables will be considered for the data base, the reader is kindly referred to the main report in the github repository."
   ]
  },
  {
   "cell_type": "code",
   "execution_count": 16,
   "metadata": {
    "collapsed": false
   },
   "outputs": [],
   "source": [
    "directory = '/Users/guadalupecanasherrera/DDM2017_FinalProject/FinalProject/Q1/Tables/'\n",
    "Info=Table.read(directory+'file_info_for_problem.csv',format='ascii.csv')\n",
    "#Info #comment if you do not want to show this table"
   ]
  },
  {
   "cell_type": "code",
   "execution_count": 17,
   "metadata": {
    "collapsed": false
   },
   "outputs": [
    {
     "name": "stdout",
     "output_type": "stream",
     "text": [
      "Number of data tables: 18\n"
     ]
    }
   ],
   "source": [
    "# Counting, saving and listing data tables in the directory\n",
    "items = os.listdir(directory)\n",
    "data_tables_fits = []\n",
    "for names in items:\n",
    "    if names.endswith(\".fits\"):\n",
    "        data_tables_fits.append(names)\n",
    "\n",
    "print \"Number of data tables: {}\".format(len(data_tables_fits))\n",
    "\n",
    "#data_tables_fits #Un/Comment if you do/not want to see the name of the files"
   ]
  },
  {
   "cell_type": "code",
   "execution_count": 18,
   "metadata": {
    "collapsed": false
   },
   "outputs": [],
   "source": [
    "#The names of the .fits in reality and in the Info table does not agree. Therefore, I add a column in info with the\n",
    "#real file name in the order that correspond taking into consideration the date.\n",
    "\n",
    "data_tables = ['Field-1-Z','Field-1-J','Field-1-H','Field-1-Ks-E002','Field-1-Ks-E001',\n",
    "            'Field-1-Ks-E003','Field-1-Y','Field-2-Z','Field-2-J','Field-2-H',\n",
    "            'Field-2-Ks-E001','Field-2-Y','Field-3-Z','Field-3-J','Field-3-H',\n",
    "             'Field-3-Ks-E002','Field-3-Ks-E001','Field-3-Y']\n",
    "\n",
    "data_tables_fits=[]\n",
    "for files in data_tables:\n",
    "    data_tables_fits.append(str(files)+'.fits')"
   ]
  },
  {
   "cell_type": "code",
   "execution_count": 19,
   "metadata": {
    "collapsed": false
   },
   "outputs": [
    {
     "data": {
      "text/html": [
       "&lt;Table length=18&gt;\n",
       "<table id=\"table4422891856\" class=\"table-striped table-bordered table-condensed\">\n",
       "<thead><tr><th>ID</th><th>FieldID</th><th>Filename</th><th>Filter</th><th>MJD</th><th>Airmass</th><th>Exptime</th><th>RealFilename</th></tr></thead>\n",
       "<thead><tr><th>int64</th><th>int64</th><th>str36</th><th>str2</th><th>float64</th><th>float64</th><th>float64</th><th>str20</th></tr></thead>\n",
       "<tr><td>1</td><td>1</td><td>Z-ADP.2017-01-18T11:58:36.905.fits</td><td>Z</td><td>57267.1671072</td><td>1.6405</td><td>40.0</td><td>Field-1-Z.fits</td></tr>\n",
       "<tr><td>2</td><td>1</td><td>J-ADP.2017-01-18T11:58:35.781.fits</td><td>J</td><td>57257.0504323</td><td>1.0105</td><td>48.0</td><td>Field-1-J.fits</td></tr>\n",
       "<tr><td>3</td><td>1</td><td>H-ADP.2017-01-18T11:58:35.780.fits</td><td>H</td><td>57257.044108</td><td>1.006</td><td>16.0</td><td>Field-1-H.fits</td></tr>\n",
       "<tr><td>4</td><td>1</td><td>Ks-ADP.2016-05-25T15:33:39.546.fits</td><td>Ks</td><td>56788.346937</td><td>1.023</td><td>16.0</td><td>Field-1-Ks-E002.fits</td></tr>\n",
       "<tr><td>5</td><td>1</td><td>Ks-ADP.2017-01-18T11:58:39.907.fits</td><td>Ks</td><td>56561.0020158</td><td>1.079</td><td>16.0</td><td>Field-1-Ks-E001.fits</td></tr>\n",
       "<tr><td>6</td><td>1</td><td>Ks-ADP.2016-05-25T15:33:43.377.fits</td><td>Ks</td><td>56829.0390512</td><td>1.6085</td><td>16.0</td><td>Field-1-Ks-E003.fits</td></tr>\n",
       "<tr><td>7</td><td>1</td><td>Y-ADP.2017-01-18T11:58:36.901.fits</td><td>Y</td><td>57267.1596647</td><td>1.5605</td><td>40.0</td><td>Field-1-Y.fits</td></tr>\n",
       "<tr><td>8</td><td>2</td><td>Z-ADP.2017-01-18T11:58:36.905b.fits</td><td>Z</td><td>57268.1671072</td><td>1.6405</td><td>40.0</td><td>Field-2-Z.fits</td></tr>\n",
       "<tr><td>9</td><td>2</td><td>J-ADP.2017-01-18T11:58:35.781b.fits</td><td>J</td><td>57258.0504323</td><td>1.0105</td><td>48.0</td><td>Field-2-J.fits</td></tr>\n",
       "<tr><td>10</td><td>2</td><td>H-ADP.2017-01-18T11:58:35.780b.fits</td><td>H</td><td>57258.044108</td><td>1.006</td><td>16.0</td><td>Field-2-H.fits</td></tr>\n",
       "<tr><td>11</td><td>2</td><td>Ks-ADP.2016-05-25T15:33:39.546b.fits</td><td>Ks</td><td>56789.346937</td><td>1.023</td><td>16.0</td><td>Field-2-Ks-E001.fits</td></tr>\n",
       "<tr><td>12</td><td>2</td><td>Y-ADP.2017-01-18T11:58:36.901b.fits</td><td>Y</td><td>57268.1596647</td><td>1.5605</td><td>40.0</td><td>Field-2-Y.fits</td></tr>\n",
       "<tr><td>13</td><td>3</td><td>Z-ADP.2017-01-18T11:58:36.905c.fits</td><td>Z</td><td>57268.1671072</td><td>1.6405</td><td>40.0</td><td>Field-3-Z.fits</td></tr>\n",
       "<tr><td>14</td><td>3</td><td>J-ADP.2017-01-18T11:58:35.781c.fits</td><td>J</td><td>57258.0504323</td><td>1.0105</td><td>48.0</td><td>Field-3-J.fits</td></tr>\n",
       "<tr><td>15</td><td>3</td><td>H-ADP.2017-01-18T11:58:35.780c.fits</td><td>H</td><td>57258.044108</td><td>1.006</td><td>16.0</td><td>Field-3-H.fits</td></tr>\n",
       "<tr><td>16</td><td>3</td><td>Ks-ADP.2016-05-25T15:33:39.546c.fits</td><td>Ks</td><td>56789.346937</td><td>1.023</td><td>16.0</td><td>Field-3-Ks-E002.fits</td></tr>\n",
       "<tr><td>17</td><td>3</td><td>Ks-ADP.2017-01-18T11:58:39.907c.fits</td><td>Ks</td><td>56562.0020158</td><td>1.079</td><td>16.0</td><td>Field-3-Ks-E001.fits</td></tr>\n",
       "<tr><td>18</td><td>3</td><td>Y-ADP.2017-01-18T11:58:36.901c.fits</td><td>Y</td><td>57268.1596647</td><td>1.5605</td><td>40.0</td><td>Field-3-Y.fits</td></tr>\n",
       "</table>"
      ],
      "text/plain": [
       "<Table length=18>\n",
       "  ID  FieldID ... Exptime     RealFilename    \n",
       "int64  int64  ... float64        str20        \n",
       "----- ------- ... ------- --------------------\n",
       "    1       1 ...    40.0       Field-1-Z.fits\n",
       "    2       1 ...    48.0       Field-1-J.fits\n",
       "    3       1 ...    16.0       Field-1-H.fits\n",
       "    4       1 ...    16.0 Field-1-Ks-E002.fits\n",
       "    5       1 ...    16.0 Field-1-Ks-E001.fits\n",
       "    6       1 ...    16.0 Field-1-Ks-E003.fits\n",
       "    7       1 ...    40.0       Field-1-Y.fits\n",
       "    8       2 ...    40.0       Field-2-Z.fits\n",
       "    9       2 ...    48.0       Field-2-J.fits\n",
       "   10       2 ...    16.0       Field-2-H.fits\n",
       "   11       2 ...    16.0 Field-2-Ks-E001.fits\n",
       "   12       2 ...    40.0       Field-2-Y.fits\n",
       "   13       3 ...    40.0       Field-3-Z.fits\n",
       "   14       3 ...    48.0       Field-3-J.fits\n",
       "   15       3 ...    16.0       Field-3-H.fits\n",
       "   16       3 ...    16.0 Field-3-Ks-E002.fits\n",
       "   17       3 ...    16.0 Field-3-Ks-E001.fits\n",
       "   18       3 ...    40.0       Field-3-Y.fits"
      ]
     },
     "execution_count": 19,
     "metadata": {},
     "output_type": "execute_result"
    }
   ],
   "source": [
    "# Adding another column to Info to include the real name of the table files instead of the automatic .fits name\n",
    "Info['RealFilename']=data_tables_fits\n",
    "Info #Un/Comment if you do/not want to see the name of the files"
   ]
  },
  {
   "cell_type": "code",
   "execution_count": 20,
   "metadata": {
    "collapsed": false
   },
   "outputs": [
    {
     "data": {
      "text/html": [
       "&lt;Table masked=True length=180000&gt;\n",
       "<table id=\"table4385272656\" class=\"table-striped table-bordered table-condensed\">\n",
       "<thead><tr><th>RunningID</th><th>X</th><th>Y</th><th>Flux1</th><th>dFlux1</th><th>Flux2</th><th>dFlux2</th><th>Flux3</th><th>dFlux3</th><th>Ra</th><th>Dec</th><th>Class</th><th>Mag1</th><th>dMag1</th><th>Mag2</th><th>dMag2</th><th>Mag3</th><th>dMag3</th><th>StarID</th><th>ID</th><th>Filter</th><th>FieldID</th></tr></thead>\n",
       "<thead><tr><th>Number</th><th>Pixels</th><th>Pixels</th><th>ADU</th><th>ADU</th><th>ADU</th><th>ADU</th><th>ADU</th><th>ADU</th><th>RADIANS</th><th>RADIANS</th><th>Flag</th><th>ADU</th><th>ADU</th><th>ADU</th><th>ADU</th><th>ADU</th><th>ADU</th><th></th><th></th><th></th><th></th></tr></thead>\n",
       "<thead><tr><th>float32</th><th>float32</th><th>float32</th><th>float32</th><th>float32</th><th>float32</th><th>float32</th><th>float32</th><th>float32</th><th>float32</th><th>float32</th><th>float32</th><th>float32</th><th>float32</th><th>float32</th><th>float32</th><th>float32</th><th>float32</th><th>int64</th><th>float64</th><th>str2</th><th>int64</th></tr></thead>\n",
       "<tr><td>9.0</td><td>6676.62</td><td>5.03455</td><td>2886.02</td><td>145.136</td><td>4697.14</td><td>205.506</td><td>6884.06</td><td>291.283</td><td>4.70662</td><td>-0.529796</td><td>-1.0</td><td>17.433</td><td>0.054601</td><td>17.4321</td><td>0.0475026</td><td>17.4231</td><td>0.0459405</td><td>0</td><td>1.0</td><td>Z</td><td>1</td></tr>\n",
       "<tr><td>13.0</td><td>6841.46</td><td>5.31207</td><td>2585.4</td><td>144.623</td><td>4467.49</td><td>205.039</td><td>6966.38</td><td>290.953</td><td>4.7069</td><td>-0.529931</td><td>1.0</td><td>17.5525</td><td>0.0607343</td><td>17.4866</td><td>0.049831</td><td>17.4102</td><td>0.0453463</td><td>1</td><td>1.0</td><td>Z</td><td>1</td></tr>\n",
       "<tr><td>15.0</td><td>6355.06</td><td>5.88212</td><td>2765.64</td><td>145.052</td><td>4436.22</td><td>205.378</td><td>6540.06</td><td>291.163</td><td>4.70609</td><td>-0.529531</td><td>-1.0</td><td>17.4793</td><td>0.0569448</td><td>17.4942</td><td>0.050265</td><td>17.4788</td><td>0.048337</td><td>2</td><td>1.0</td><td>Z</td><td>1</td></tr>\n",
       "<tr><td>19.0</td><td>5897.49</td><td>7.52958</td><td>899.127</td><td>138.445</td><td>1464.07</td><td>197.921</td><td>2023.29</td><td>284.087</td><td>4.70533</td><td>-0.529153</td><td>-1.0</td><td>18.6992</td><td>0.167179</td><td>18.6978</td><td>0.146776</td><td>18.7526</td><td>0.152447</td><td>3</td><td>1.0</td><td>Z</td><td>1</td></tr>\n",
       "<tr><td>22.0</td><td>5809.89</td><td>6.13442</td><td>3412.75</td><td>140.556</td><td>5444.32</td><td>200.291</td><td>8012.71</td><td>286.57</td><td>4.70518</td><td>-0.529083</td><td>-1.0</td><td>17.251</td><td>0.0447169</td><td>17.2719</td><td>0.0399432</td><td>17.2583</td><td>0.0388309</td><td>4</td><td>1.0</td><td>Z</td><td>1</td></tr>\n",
       "<tr><td>14.0</td><td>6874.91</td><td>5.43629</td><td>4129.01</td><td>145.694</td><td>6773.71</td><td>206.173</td><td>9926.46</td><td>291.985</td><td>4.70695</td><td>-0.529958</td><td>-1.0</td><td>17.0442</td><td>0.0383108</td><td>17.0347</td><td>0.0330469</td><td>17.0257</td><td>0.0319368</td><td>5</td><td>1.0</td><td>Z</td><td>1</td></tr>\n",
       "<tr><td>12.0</td><td>6571.8</td><td>5.21043</td><td>3762.78</td><td>145.753</td><td>6288.57</td><td>206.302</td><td>9654.43</td><td>292.267</td><td>4.70645</td><td>-0.52971</td><td>1.0</td><td>17.145</td><td>0.0420567</td><td>17.1153</td><td>0.0356186</td><td>17.0559</td><td>0.0328684</td><td>6</td><td>1.0</td><td>Z</td><td>1</td></tr>\n",
       "<tr><td>17.0</td><td>6580.03</td><td>6.52743</td><td>2046.26</td><td>144.553</td><td>3359.13</td><td>204.849</td><td>4906.73</td><td>290.597</td><td>4.70647</td><td>-0.529715</td><td>1.0</td><td>17.8064</td><td>0.0766994</td><td>17.7962</td><td>0.0662116</td><td>17.7907</td><td>0.0643021</td><td>7</td><td>1.0</td><td>Z</td><td>1</td></tr>\n",
       "<tr><td>25.0</td><td>5442.76</td><td>5.51923</td><td>7346.58</td><td>142.742</td><td>12718.0</td><td>203.258</td><td>17909.1</td><td>289.473</td><td>4.70457</td><td>-0.528783</td><td>-2.0</td><td>16.4186</td><td>0.0210957</td><td>16.3507</td><td>0.0173522</td><td>16.385</td><td>0.0175494</td><td>8</td><td>1.0</td><td>Z</td><td>1</td></tr>\n",
       "<tr><td>...</td><td>...</td><td>...</td><td>...</td><td>...</td><td>...</td><td>...</td><td>...</td><td>...</td><td>...</td><td>...</td><td>...</td><td>...</td><td>...</td><td>...</td><td>...</td><td>...</td><td>...</td><td>...</td><td>...</td><td>...</td><td>...</td></tr>\n",
       "<tr><td>454501.0</td><td>8370.25</td><td>8615.65</td><td>5359.49</td><td>173.434</td><td>9173.43</td><td>245.963</td><td>14037.6</td><td>349.237</td><td>4.71756</td><td>-0.518785</td><td>1.0</td><td>16.7134</td><td>0.0351348</td><td>16.6306</td><td>0.0291115</td><td>16.5342</td><td>0.0270117</td><td>309990</td><td>18.0</td><td>Y</td><td>3</td></tr>\n",
       "<tr><td>454649.0</td><td>381.916</td><td>8612.85</td><td>6413.47</td><td>167.012</td><td>10117.1</td><td>238.882</td><td>14603.2</td><td>341.807</td><td>4.70435</td><td>-0.512263</td><td>-1.0</td><td>16.5185</td><td>0.0282736</td><td>16.5243</td><td>0.0256361</td><td>16.4913</td><td>0.0254132</td><td>309991</td><td>18.0</td><td>Y</td><td>3</td></tr>\n",
       "<tr><td>454534.0</td><td>4286.15</td><td>8616.46</td><td>5220.01</td><td>162.35</td><td>8160.4</td><td>234.142</td><td>10986.6</td><td>338.537</td><td>4.71079</td><td>-0.515456</td><td>-1.0</td><td>16.7421</td><td>0.033768</td><td>16.7577</td><td>0.0311525</td><td>16.8003</td><td>0.0334555</td><td>309992</td><td>18.0</td><td>Y</td><td>3</td></tr>\n",
       "<tr><td>454663.0</td><td>11292.2</td><td>8620.43</td><td>1401.12</td><td>170.557</td><td>2173.38</td><td>242.701</td><td>2859.15</td><td>347.775</td><td>4.72242</td><td>-0.521146</td><td>-1.0</td><td>18.17</td><td>0.132166</td><td>18.1941</td><td>0.121244</td><td>18.2618</td><td>0.132065</td><td>309993</td><td>18.0</td><td>Y</td><td>3</td></tr>\n",
       "<tr><td>454734.0</td><td>10918.6</td><td>8608.29</td><td>6618.59</td><td>173.542</td><td>10721.7</td><td>246.146</td><td>15272.3</td><td>351.289</td><td>4.72179</td><td>-0.520862</td><td>-1.0</td><td>16.4843</td><td>0.0284686</td><td>16.4613</td><td>0.0249261</td><td>16.4427</td><td>0.0249738</td><td>309994</td><td>18.0</td><td>Y</td><td>3</td></tr>\n",
       "<tr><td>454737.0</td><td>10926.7</td><td>8608.75</td><td>4041.84</td><td>172.073</td><td>6600.35</td><td>244.49</td><td>9854.27</td><td>349.763</td><td>4.7218</td><td>-0.520868</td><td>1.0</td><td>17.0198</td><td>0.0462232</td><td>16.988</td><td>0.040218</td><td>16.9184</td><td>0.0385367</td><td>309995</td><td>18.0</td><td>Y</td><td>3</td></tr>\n",
       "<tr><td>454597.0</td><td>12382.2</td><td>8619.43</td><td>1680.92</td><td>170.13</td><td>2633.37</td><td>241.726</td><td>3609.85</td><td>346.109</td><td>4.72424</td><td>-0.522029</td><td>-1.0</td><td>17.9724</td><td>0.10989</td><td>17.9857</td><td>0.099664</td><td>18.0087</td><td>0.1041</td><td>309996</td><td>18.0</td><td>Y</td><td>3</td></tr>\n",
       "<tr><td>452672.0</td><td>9522.55</td><td>8569.37</td><td>73577.5</td><td>208.132</td><td>118253.0</td><td>285.949</td><td>163345.0</td><td>389.862</td><td>4.71943</td><td>-0.519787</td><td>-1.0</td><td>13.8694</td><td>0.00307128</td><td>13.8549</td><td>0.00262544</td><td>13.8697</td><td>0.00259137</td><td>309997</td><td>18.0</td><td>Y</td><td>3</td></tr>\n",
       "<tr><td>453716.0</td><td>9509.0</td><td>8579.43</td><td>2393.7</td><td>170.707</td><td>3852.55</td><td>242.588</td><td>5544.19</td><td>346.473</td><td>4.71942</td><td>-0.519762</td><td>1.0</td><td>17.5886</td><td>0.0774296</td><td>17.5726</td><td>0.0683672</td><td>17.5428</td><td>0.0678511</td><td>309998</td><td>18.0</td><td>Y</td><td>3</td></tr>\n",
       "<tr><td>453717.0</td><td>9514.23</td><td>8593.98</td><td>206286.0</td><td>263.814</td><td>329776.0</td><td>352.055</td><td>473325.0</td><td>463.226</td><td>4.71944</td><td>-0.519745</td><td>-1.0</td><td>12.7501</td><td>0.00138852</td><td>12.7414</td><td>0.00115909</td><td>12.7145</td><td>0.00106257</td><td>309999</td><td>18.0</td><td>Y</td><td>3</td></tr>\n",
       "</table>"
      ],
      "text/plain": [
       "<Table masked=True length=180000>\n",
       "RunningID    X       Y     Flux1    dFlux1 ... StarID    ID   Filter FieldID\n",
       "  Number   Pixels  Pixels   ADU      ADU   ...                              \n",
       " float32  float32 float32 float32  float32 ... int64  float64  str2   int64 \n",
       "--------- ------- ------- -------- ------- ... ------ ------- ------ -------\n",
       "      9.0 6676.62 5.03455  2886.02 145.136 ...      0     1.0      Z       1\n",
       "     13.0 6841.46 5.31207   2585.4 144.623 ...      1     1.0      Z       1\n",
       "     15.0 6355.06 5.88212  2765.64 145.052 ...      2     1.0      Z       1\n",
       "     19.0 5897.49 7.52958  899.127 138.445 ...      3     1.0      Z       1\n",
       "     22.0 5809.89 6.13442  3412.75 140.556 ...      4     1.0      Z       1\n",
       "     14.0 6874.91 5.43629  4129.01 145.694 ...      5     1.0      Z       1\n",
       "     12.0  6571.8 5.21043  3762.78 145.753 ...      6     1.0      Z       1\n",
       "     17.0 6580.03 6.52743  2046.26 144.553 ...      7     1.0      Z       1\n",
       "     25.0 5442.76 5.51923  7346.58 142.742 ...      8     1.0      Z       1\n",
       "      ...     ...     ...      ...     ... ...    ...     ...    ...     ...\n",
       " 454501.0 8370.25 8615.65  5359.49 173.434 ... 309990    18.0      Y       3\n",
       " 454649.0 381.916 8612.85  6413.47 167.012 ... 309991    18.0      Y       3\n",
       " 454534.0 4286.15 8616.46  5220.01  162.35 ... 309992    18.0      Y       3\n",
       " 454663.0 11292.2 8620.43  1401.12 170.557 ... 309993    18.0      Y       3\n",
       " 454734.0 10918.6 8608.29  6618.59 173.542 ... 309994    18.0      Y       3\n",
       " 454737.0 10926.7 8608.75  4041.84 172.073 ... 309995    18.0      Y       3\n",
       " 454597.0 12382.2 8619.43  1680.92  170.13 ... 309996    18.0      Y       3\n",
       " 452672.0 9522.55 8569.37  73577.5 208.132 ... 309997    18.0      Y       3\n",
       " 453716.0  9509.0 8579.43   2393.7 170.707 ... 309998    18.0      Y       3\n",
       " 453717.0 9514.23 8593.98 206286.0 263.814 ... 309999    18.0      Y       3"
      ]
     },
     "execution_count": 20,
     "metadata": {},
     "output_type": "execute_result"
    }
   ],
   "source": [
    "# Reading the 18 data tables and creating only one big data table, named Data. The common variables between the Info\n",
    "#table and the Data table will be ID, Filter and FieldID\n",
    "\n",
    "Data=Table()\n",
    "for ii,files in enumerate(data_tables):\n",
    "#     print(files[:-5])\n",
    "    Files=Table.read(directory+str(files)+'.fits',format='fits')\n",
    "    #print len(Files)\n",
    "    for jj, kola in enumerate(Info):\n",
    "        if kola['RealFilename']==str(files)+'.fits':\n",
    "            Files['ID']=np.ones(len(Files))*kola['ID']\n",
    "            Files['Filter']=kola['Filter']\n",
    "            Files['FieldID']=kola['FieldID']\n",
    "            \n",
    "    Data=vstack([Data,Files])\n",
    "\n",
    "Data #Un/Comment if you do/not want to see the name of the files"
   ]
  },
  {
   "cell_type": "markdown",
   "metadata": {},
   "source": [
    "###Creating table for color\n",
    "I create a panda dataframe with colors J-H and Y-J as they will be required latter for further purposes: simplification of an SQL query and the simulation os stars. I use pandas for simplification in filtering as well as for the speed in masking."
   ]
  },
  {
   "cell_type": "code",
   "execution_count": 21,
   "metadata": {
    "collapsed": false
   },
   "outputs": [
    {
     "name": "stdout",
     "output_type": "stream",
     "text": [
      "(180000, 22)\n"
     ]
    }
   ],
   "source": [
    "# Transforming astropy Data table to panda dataframes and calculating colors and uncertainties.\n",
    "Data_df=Data.to_pandas()\n",
    "print Data_df.shape\n",
    "DataH=Data_df[Data_df[\"Filter\"]==\"H\"]\n",
    "DataY=Data_df[Data_df[\"Filter\"]==\"Y\"]\n",
    "DataJ=Data_df[Data_df[\"Filter\"]==\"J\"]\n",
    "colorJH=DataJ.Mag1[DataJ.StarID==DataH.StarID].values-DataH.Mag1[DataH.StarID==DataJ.StarID].values\n",
    "dcolorJH=np.abs(colorJH)*np.sqrt((DataJ.dMag1[DataJ.StarID==DataH.StarID].values/DataJ.Mag1[DataJ.StarID==DataH.StarID].values)**2\n",
    "                        +(DataH.dMag1[DataH.StarID==DataJ.StarID].values/DataH.Mag1[DataH.StarID==DataJ.StarID].values)**2)\n",
    "\n",
    "colorYJ=DataY.Mag1[DataY.StarID==DataJ.StarID].values-DataJ.Mag1[DataJ.StarID==DataY.StarID].values\n",
    "dcolorYJ=np.abs(colorYJ)*np.sqrt((DataY.dMag1[DataY.StarID==DataJ.StarID].values/DataY.Mag1[DataY.StarID==DataJ.StarID].values)**2\n",
    "                        +(DataJ.dMag1[DataJ.StarID==DataY.StarID].values/DataJ.Mag1[DataJ.StarID==DataY.StarID].values)**2)\n",
    "Color_df=pd.DataFrame()\n",
    "Color_df[\"colorJH\"]=colorJH\n",
    "Color_df[\"colorYJ\"]=colorYJ\n",
    "Color_df[\"dcolorJH\"]=dcolorJH\n",
    "Color_df[\"dcolorYJ\"]=dcolorYJ"
   ]
  },
  {
   "cell_type": "code",
   "execution_count": 8,
   "metadata": {
    "collapsed": false
   },
   "outputs": [
    {
     "data": {
      "text/html": [
       "<div>\n",
       "<table border=\"1\" class=\"dataframe\">\n",
       "  <thead>\n",
       "    <tr style=\"text-align: right;\">\n",
       "      <th></th>\n",
       "      <th>colorJH</th>\n",
       "      <th>colorYJ</th>\n",
       "      <th>dcolorJH</th>\n",
       "      <th>dcolorYJ</th>\n",
       "      <th>StarID</th>\n",
       "      <th>FieldID</th>\n",
       "      <th>ClassH</th>\n",
       "      <th>ClassJ</th>\n",
       "      <th>ClassY</th>\n",
       "    </tr>\n",
       "  </thead>\n",
       "  <tbody>\n",
       "    <tr>\n",
       "      <th>0</th>\n",
       "      <td>2.450781</td>\n",
       "      <td>-0.697231</td>\n",
       "      <td>0.009473</td>\n",
       "      <td>0.003231</td>\n",
       "      <td>0</td>\n",
       "      <td>1</td>\n",
       "      <td>-1</td>\n",
       "      <td>-2</td>\n",
       "      <td>1</td>\n",
       "    </tr>\n",
       "    <tr>\n",
       "      <th>1</th>\n",
       "      <td>2.190912</td>\n",
       "      <td>-0.245317</td>\n",
       "      <td>0.006166</td>\n",
       "      <td>0.000962</td>\n",
       "      <td>1</td>\n",
       "      <td>1</td>\n",
       "      <td>-1</td>\n",
       "      <td>1</td>\n",
       "      <td>1</td>\n",
       "    </tr>\n",
       "    <tr>\n",
       "      <th>2</th>\n",
       "      <td>1.946388</td>\n",
       "      <td>-0.305107</td>\n",
       "      <td>0.005997</td>\n",
       "      <td>0.001234</td>\n",
       "      <td>2</td>\n",
       "      <td>1</td>\n",
       "      <td>-1</td>\n",
       "      <td>-1</td>\n",
       "      <td>1</td>\n",
       "    </tr>\n",
       "    <tr>\n",
       "      <th>3</th>\n",
       "      <td>1.496420</td>\n",
       "      <td>-0.102165</td>\n",
       "      <td>0.011871</td>\n",
       "      <td>0.001035</td>\n",
       "      <td>3</td>\n",
       "      <td>1</td>\n",
       "      <td>-1</td>\n",
       "      <td>-1</td>\n",
       "      <td>-1</td>\n",
       "    </tr>\n",
       "    <tr>\n",
       "      <th>4</th>\n",
       "      <td>1.572735</td>\n",
       "      <td>-0.264221</td>\n",
       "      <td>0.003804</td>\n",
       "      <td>0.000768</td>\n",
       "      <td>4</td>\n",
       "      <td>1</td>\n",
       "      <td>0</td>\n",
       "      <td>-1</td>\n",
       "      <td>-1</td>\n",
       "    </tr>\n",
       "    <tr>\n",
       "      <th>5</th>\n",
       "      <td>2.345169</td>\n",
       "      <td>-0.529789</td>\n",
       "      <td>0.005636</td>\n",
       "      <td>0.001600</td>\n",
       "      <td>5</td>\n",
       "      <td>1</td>\n",
       "      <td>-1</td>\n",
       "      <td>1</td>\n",
       "      <td>1</td>\n",
       "    </tr>\n",
       "    <tr>\n",
       "      <th>6</th>\n",
       "      <td>2.056660</td>\n",
       "      <td>-0.656755</td>\n",
       "      <td>0.005986</td>\n",
       "      <td>0.002228</td>\n",
       "      <td>6</td>\n",
       "      <td>1</td>\n",
       "      <td>0</td>\n",
       "      <td>1</td>\n",
       "      <td>1</td>\n",
       "    </tr>\n",
       "    <tr>\n",
       "      <th>7</th>\n",
       "      <td>1.848858</td>\n",
       "      <td>-0.136379</td>\n",
       "      <td>0.006354</td>\n",
       "      <td>0.000657</td>\n",
       "      <td>7</td>\n",
       "      <td>1</td>\n",
       "      <td>-1</td>\n",
       "      <td>-2</td>\n",
       "      <td>-1</td>\n",
       "    </tr>\n",
       "    <tr>\n",
       "      <th>8</th>\n",
       "      <td>0.996487</td>\n",
       "      <td>-1.058402</td>\n",
       "      <td>0.002680</td>\n",
       "      <td>0.002221</td>\n",
       "      <td>8</td>\n",
       "      <td>1</td>\n",
       "      <td>-1</td>\n",
       "      <td>-2</td>\n",
       "      <td>-1</td>\n",
       "    </tr>\n",
       "    <tr>\n",
       "      <th>9</th>\n",
       "      <td>1.708319</td>\n",
       "      <td>-0.122698</td>\n",
       "      <td>0.003523</td>\n",
       "      <td>0.000346</td>\n",
       "      <td>9</td>\n",
       "      <td>1</td>\n",
       "      <td>-1</td>\n",
       "      <td>-1</td>\n",
       "      <td>1</td>\n",
       "    </tr>\n",
       "  </tbody>\n",
       "</table>\n",
       "</div>"
      ],
      "text/plain": [
       "    colorJH   colorYJ  dcolorJH  dcolorYJ  StarID  FieldID  ClassH  ClassJ  \\\n",
       "0  2.450781 -0.697231  0.009473  0.003231       0        1      -1      -2   \n",
       "1  2.190912 -0.245317  0.006166  0.000962       1        1      -1       1   \n",
       "2  1.946388 -0.305107  0.005997  0.001234       2        1      -1      -1   \n",
       "3  1.496420 -0.102165  0.011871  0.001035       3        1      -1      -1   \n",
       "4  1.572735 -0.264221  0.003804  0.000768       4        1       0      -1   \n",
       "5  2.345169 -0.529789  0.005636  0.001600       5        1      -1       1   \n",
       "6  2.056660 -0.656755  0.005986  0.002228       6        1       0       1   \n",
       "7  1.848858 -0.136379  0.006354  0.000657       7        1      -1      -2   \n",
       "8  0.996487 -1.058402  0.002680  0.002221       8        1      -1      -2   \n",
       "9  1.708319 -0.122698  0.003523  0.000346       9        1      -1      -1   \n",
       "\n",
       "   ClassY  \n",
       "0       1  \n",
       "1       1  \n",
       "2       1  \n",
       "3      -1  \n",
       "4      -1  \n",
       "5       1  \n",
       "6       1  \n",
       "7      -1  \n",
       "8      -1  \n",
       "9       1  "
      ]
     },
     "execution_count": 8,
     "metadata": {},
     "output_type": "execute_result"
    }
   ],
   "source": [
    "# I also include in this new Dataframe the StarID and the FieldID as well as the class for further classification\n",
    "Color_df[\"StarID\"]=DataY.StarID[DataY.StarID==DataJ.StarID].values\n",
    "Color_df[\"FieldID\"]=DataY.FieldID[DataY.StarID==DataJ.StarID].values\n",
    "Color_df[\"ClassH\"]=DataH.Class[DataH.StarID==DataJ.StarID].values\n",
    "Color_df[\"ClassJ\"]=DataJ.Class[DataJ.StarID==DataH.StarID].values\n",
    "Color_df[\"ClassY\"]=DataY.Class[DataY.StarID==DataJ.StarID].values\n",
    "Color_df[:10]"
   ]
  },
  {
   "cell_type": "markdown",
   "metadata": {},
   "source": [
    "###Transforming the tables to a database\n",
    "I use Astropy to transform the tables to panda dataframes and then, from panda dataframes to SQL using directly the package pandas to ingest the data. I design the schemas to be passed to pandas as well."
   ]
  },
  {
   "cell_type": "code",
   "execution_count": 9,
   "metadata": {
    "collapsed": false
   },
   "outputs": [],
   "source": [
    "#Schemas: I need three different schemas for the three different tables:\n",
    "\n",
    "Info_schema = \"\"\"\n",
    "                CREATE TABLE Info (ID INT, FieldID INT,  \n",
    "                Filename VARCHAR(50), Filter VARCHAR(5), MJD DOUBLE, Airmass DOUBLE, Exptime DOUBLE, \n",
    "                RealFilename VARCHAR(50),\n",
    "                UNIQUE(ID),\n",
    "                PRIMARY KEY(ID, MJD),\n",
    "                FOREIGN KEY(FieldID))\n",
    "                \n",
    "              \"\"\"\n",
    "\n",
    "Color_schema = \"\"\"\n",
    "                CREATE TABLE Color (colorJH DOUBLE, colorYJ DOUBLE, dcolorJH DOUBLE, dcolorYJ DOUBLE, \n",
    "                StarID INT,  FieldID INT,  ClassH, INT,  ClassJ INT, ClassY INT,\n",
    "                UNIQUE(StarID),\n",
    "                PRIMARY KEY(StarID),\n",
    "                FOREIGN KEY(FieldID))\n",
    "                \n",
    "               \"\"\"\n",
    "\n",
    "Data_schema = \"\"\"\n",
    "                CREATE TABLE Data (RunningID INT, X DOUBLE, \n",
    "                Y DOUBLE, Flux1 DOUBLE, dFlux1 DOUBLE, Flux2 DOUBLE, dFlux2 DOUBLE, Flux3 DOUBLE, dFlux3 DOUBLE,\n",
    "                Ra DOUBLE, Dec DOUBLE, Class INT, Mag1 DOUBLE, dMag1 DOUBLE, Mag2 DOUBLE, dMag2 DOUBLE,\n",
    "                Mag3 DOUBLE, dMag3 DOUBLE, StarID INT, ID INT, Filter VARCHAR(5), FieldID DOUBLE,\n",
    "                PRIMARY KEY(StarID), \n",
    "                FOREIGN KEY(FieldID, ID))\n",
    "                \n",
    "                \"\"\""
   ]
  },
  {
   "cell_type": "code",
   "execution_count": 10,
   "metadata": {
    "collapsed": false
   },
   "outputs": [],
   "source": [
    "# Select the name of the database: I include my student number for simplicity in case it is tested\n",
    "Name_database = 'Database_s1848151.db'\n",
    "# Open sql data base frame\n",
    "con = sq.connect(Name_database)\n",
    "# Transform Info to pandas\n",
    "Info_df=Info.to_pandas()\n",
    "# And create the tables into the Database\n",
    "Data_df.to_sql('Data', con, schema=Data_schema, if_exists='replace')\n",
    "Info_df.to_sql('Info', con, schema=Info_schema, if_exists='replace')\n",
    "Color_df.to_sql('Color', con, schema=Color_schema, if_exists='replace')"
   ]
  },
  {
   "cell_type": "markdown",
   "metadata": {},
   "source": [
    "### Transforming Info table to latex to be included in the report\n",
    "I use the method already available in pandas to transform pandas dataframes into latex tables for a neat presentation.\n"
   ]
  },
  {
   "cell_type": "code",
   "execution_count": 11,
   "metadata": {
    "collapsed": false
   },
   "outputs": [
    {
     "name": "stdout",
     "output_type": "stream",
     "text": [
      "\\begin{tabular}{lrrlrll}\n",
      "\\toprule\n",
      "{} &  ID &  FieldID & Filter &           MJD &                              Filename &          RealFilename \\\\\n",
      "\\midrule\n",
      "0  &   1 &        1 &      Z &  57267.167107 &    Z-ADP.2017-01-18T11:58:36.905.fits &        Field-1-Z.fits \\\\\n",
      "1  &   2 &        1 &      J &  57257.050432 &    J-ADP.2017-01-18T11:58:35.781.fits &        Field-1-J.fits \\\\\n",
      "2  &   3 &        1 &      H &  57257.044108 &    H-ADP.2017-01-18T11:58:35.780.fits &        Field-1-H.fits \\\\\n",
      "3  &   4 &        1 &     Ks &  56788.346937 &   Ks-ADP.2016-05-25T15:33:39.546.fits &  Field-1-Ks-E002.fits \\\\\n",
      "4  &   5 &        1 &     Ks &  56561.002016 &   Ks-ADP.2017-01-18T11:58:39.907.fits &  Field-1-Ks-E001.fits \\\\\n",
      "5  &   6 &        1 &     Ks &  56829.039051 &   Ks-ADP.2016-05-25T15:33:43.377.fits &  Field-1-Ks-E003.fits \\\\\n",
      "6  &   7 &        1 &      Y &  57267.159665 &    Y-ADP.2017-01-18T11:58:36.901.fits &        Field-1-Y.fits \\\\\n",
      "7  &   8 &        2 &      Z &  57268.167107 &   Z-ADP.2017-01-18T11:58:36.905b.fits &        Field-2-Z.fits \\\\\n",
      "8  &   9 &        2 &      J &  57258.050432 &   J-ADP.2017-01-18T11:58:35.781b.fits &        Field-2-J.fits \\\\\n",
      "9  &  10 &        2 &      H &  57258.044108 &   H-ADP.2017-01-18T11:58:35.780b.fits &        Field-2-H.fits \\\\\n",
      "10 &  11 &        2 &     Ks &  56789.346937 &  Ks-ADP.2016-05-25T15:33:39.546b.fits &  Field-2-Ks-E001.fits \\\\\n",
      "11 &  12 &        2 &      Y &  57268.159665 &   Y-ADP.2017-01-18T11:58:36.901b.fits &        Field-2-Y.fits \\\\\n",
      "12 &  13 &        3 &      Z &  57268.167107 &   Z-ADP.2017-01-18T11:58:36.905c.fits &        Field-3-Z.fits \\\\\n",
      "13 &  14 &        3 &      J &  57258.050432 &   J-ADP.2017-01-18T11:58:35.781c.fits &        Field-3-J.fits \\\\\n",
      "14 &  15 &        3 &      H &  57258.044108 &   H-ADP.2017-01-18T11:58:35.780c.fits &        Field-3-H.fits \\\\\n",
      "15 &  16 &        3 &     Ks &  56789.346937 &  Ks-ADP.2016-05-25T15:33:39.546c.fits &  Field-3-Ks-E002.fits \\\\\n",
      "16 &  17 &        3 &     Ks &  56562.002016 &  Ks-ADP.2017-01-18T11:58:39.907c.fits &  Field-3-Ks-E001.fits \\\\\n",
      "17 &  18 &        3 &      Y &  57268.159665 &   Y-ADP.2017-01-18T11:58:36.901c.fits &        Field-3-Y.fits \\\\\n",
      "\\bottomrule\n",
      "\\end{tabular}\n",
      "\n"
     ]
    }
   ],
   "source": [
    "print Info_df.to_latex(columns=[\"ID\", \"FieldID\", \"Filter\", \"MJD\", \"Filename\", \"RealFilename\"])"
   ]
  },
  {
   "cell_type": "code",
   "execution_count": 12,
   "metadata": {
    "collapsed": false
   },
   "outputs": [
    {
     "name": "stdout",
     "output_type": "stream",
     "text": [
      "\\begin{tabular}{lrrrlr}\n",
      "\\toprule\n",
      "{} &  RunningID &  ID &  FieldID & Filter &  StarID \\\\\n",
      "\\midrule\n",
      "69999 &      12951 &   7 &        1 &      Y &    9999 \\\\\n",
      "70000 &     225232 &   8 &        2 &      Z &  170000 \\\\\n",
      "70001 &     225233 &   8 &        2 &      Z &  170001 \\\\\n",
      "70002 &     225328 &   8 &        2 &      Z &  170002 \\\\\n",
      "70003 &     225393 &   8 &        2 &      Z &  170003 \\\\\n",
      "70004 &     225330 &   8 &        2 &      Z &  170004 \\\\\n",
      "70005 &     225295 &   8 &        2 &      Z &  170005 \\\\\n",
      "70006 &     225307 &   8 &        2 &      Z &  170006 \\\\\n",
      "70007 &     225308 &   8 &        2 &      Z &  170007 \\\\\n",
      "70008 &     225309 &   8 &        2 &      Z &  170008 \\\\\n",
      "70009 &     225367 &   8 &        2 &      Z &  170009 \\\\\n",
      "\\bottomrule\n",
      "\\end{tabular}\n",
      "\n"
     ]
    }
   ],
   "source": [
    "#print Data_df[:3].to_latex(columns=[\"RunningID\", \"ID\", \"FieldID\", \"Filter\", \"StarID\"])\n",
    "print Data_df[69999:70010].to_latex(columns=[\"RunningID\", \"ID\", \"FieldID\", \"Filter\", \"StarID\"])"
   ]
  },
  {
   "cell_type": "code",
   "execution_count": 13,
   "metadata": {
    "collapsed": false
   },
   "outputs": [
    {
     "name": "stdout",
     "output_type": "stream",
     "text": [
      "\\begin{tabular}{lrrrrrrrrr}\n",
      "\\toprule\n",
      "{} &   colorJH &   colorYJ &  dcolorJH &  dcolorYJ &  StarID &  FieldID &  ClassH &  ClassJ &  ClassY \\\\\n",
      "\\midrule\n",
      "0 &  2.450781 & -0.697231 &  0.009473 &  0.003231 &       0 &        1 &      -1 &      -2 &       1 \\\\\n",
      "1 &  2.190912 & -0.245317 &  0.006166 &  0.000962 &       1 &        1 &      -1 &       1 &       1 \\\\\n",
      "2 &  1.946388 & -0.305107 &  0.005997 &  0.001234 &       2 &        1 &      -1 &      -1 &       1 \\\\\n",
      "\\bottomrule\n",
      "\\end{tabular}\n",
      "\n"
     ]
    }
   ],
   "source": [
    "print Color_df[:3].to_latex()"
   ]
  },
  {
   "cell_type": "code",
   "execution_count": null,
   "metadata": {
    "collapsed": true
   },
   "outputs": [],
   "source": []
  }
 ],
 "metadata": {
  "kernelspec": {
   "display_name": "Python 2",
   "language": "python",
   "name": "python2"
  },
  "language_info": {
   "codemirror_mode": {
    "name": "ipython",
    "version": 2
   },
   "file_extension": ".py",
   "mimetype": "text/x-python",
   "name": "python",
   "nbconvert_exporter": "python",
   "pygments_lexer": "ipython2",
   "version": "2.7.12"
  }
 },
 "nbformat": 4,
 "nbformat_minor": 0
}
